{
 "cells": [
  {
   "cell_type": "code",
   "execution_count": 3,
   "id": "67046bcd",
   "metadata": {},
   "outputs": [],
   "source": [
    "import re\n",
    "import numpy as np\n",
    "import pandas as pd\n",
    "import matplotlib.pyplot as plt"
   ]
  },
  {
   "cell_type": "markdown",
   "id": "3b0035ab",
   "metadata": {},
   "source": [
    "# Functions for DataFrames"
   ]
  },
  {
   "cell_type": "code",
   "execution_count": 16,
   "id": "5e80afbe",
   "metadata": {},
   "outputs": [],
   "source": [
    "def remove_spaces_column_names(df):\n",
    "    '''\n",
    "    input: df\n",
    "    output: df with column names without empty spaces\n",
    "    \n",
    "    '''\n",
    "    df.columns = df.columns.str.strip()\n",
    "    return df.columns"
   ]
  },
  {
   "cell_type": "code",
   "execution_count": 17,
   "id": "c73afb70",
   "metadata": {},
   "outputs": [],
   "source": [
    "def remove_spaces_columns(df):\n",
    "    '''\n",
    "    input: df\n",
    "    output: df without empty spaces in column cells\n",
    "    \n",
    "    '''\n",
    "    for col in df.select_dtypes(include='object'):\n",
    "        df[col] = df[col].str.strip()\n",
    "    return df"
   ]
  },
  {
   "cell_type": "code",
   "execution_count": 4,
   "id": "be52ca08",
   "metadata": {},
   "outputs": [],
   "source": [
    "def any_duplicate(df):\n",
    "    '''\n",
    "    input: df\n",
    "    output: boolean answer for: is there any duplicate?\n",
    "    \n",
    "    '''\n",
    "    return df.duplicated().any()"
   ]
  },
  {
   "cell_type": "code",
   "execution_count": 5,
   "id": "b15d22fa",
   "metadata": {},
   "outputs": [],
   "source": [
    "def drop_duplicates(df):\n",
    "    '''\n",
    "    input: df\n",
    "    output: df without duplicates\n",
    "    \n",
    "    '''\n",
    "    return df.drop_duplicates(inplace=True)"
   ]
  },
  {
   "cell_type": "code",
   "execution_count": 6,
   "id": "814c2b31",
   "metadata": {},
   "outputs": [],
   "source": [
    "def nan(df):\n",
    "    '''\n",
    "    input: df\n",
    "    output: list with the column name and the amount of NaN values\n",
    "    '''\n",
    "    return df.isna().sum().sort_values(ascending = False)"
   ]
  },
  {
   "cell_type": "code",
   "execution_count": 7,
   "id": "263aded9",
   "metadata": {},
   "outputs": [],
   "source": [
    "def view_nan(df: pd.DataFrame) -> None:\n",
    "    \"\"\"\n",
    "    input: df\n",
    "    output: plot of NaN values per column\n",
    "    \"\"\"\n",
    "    plt.figure(figsize = (10, 6), facecolor = 'none') \n",
    "    sns.heatmap(df.isna(),           \n",
    "                yticklabels = False,  \n",
    "                cmap = 'magma',     \n",
    "                cbar = False)\n",
    "    plt.show();"
   ]
  },
  {
   "cell_type": "code",
   "execution_count": 8,
   "id": "800e5a58",
   "metadata": {},
   "outputs": [],
   "source": [
    "def low_variance(df):\n",
    "    \"\"\"\n",
    "    input: df\n",
    "    output: list of names of columns with low variance\n",
    "    \"\"\"\n",
    "    low_variance = []\n",
    "    for col in df.select_dtypes(include = np.number): \n",
    "        minimo = df[col].min()\n",
    "        maximo = df[col].max()\n",
    "        per_90 = np.percentile(df[col], 90)\n",
    "        per_10 = np.percentile(df[col], 10)\n",
    "        if minimo == per_90 or maximo == per_10:\n",
    "            low_variance.append(col)\n",
    "    return low_variance"
   ]
  },
  {
   "cell_type": "code",
   "execution_count": 10,
   "id": "7d2e52cb",
   "metadata": {},
   "outputs": [],
   "source": [
    "def constant_columns(df):\n",
    "    \"\"\"\n",
    "    input: df\n",
    "    output: 2 lists of names of constant columns \n",
    "    \"\"\"\n",
    "    cte_cols = []\n",
    "    cte_str_cols = []\n",
    "    for col in df.select_dtypes(include = np.number):\n",
    "        if len(df[col].unique()) == 1:\n",
    "            cte_cols.append(col)          \n",
    "    for col in df.select_dtypes(include = 'object'):\n",
    "        if len(df[col].unique()) == 1:\n",
    "            cte_str_cols.append(col)\n",
    "    return cte_cols, cte_str_cols"
   ]
  },
  {
   "cell_type": "code",
   "execution_count": 11,
   "id": "336112ee",
   "metadata": {},
   "outputs": [],
   "source": [
    "def find_special_chars(df, patron = r'[?¿*$%&]'):\n",
    "    '''\n",
    "    input: df\n",
    "    output: a str with column, row and special char\n",
    "    '''\n",
    "    try:\n",
    "        for col in df.select_dtypes(include = 'object').columns:\n",
    "            for i in range(len(df)):\n",
    "                value = df.loc[i, col]\n",
    "                weird_chars = re.findall(patron, value)\n",
    "                if weird_chars:\n",
    "                    print(f\"Columna: {col} | Fila: {i} | Caracteres raros: {weird_chars}\")\n",
    "    except:\n",
    "        pass"
   ]
  },
  {
   "cell_type": "code",
   "execution_count": 12,
   "id": "6ed025a6",
   "metadata": {},
   "outputs": [],
   "source": [
    "def unique_values(df):\n",
    "    '''\n",
    "    input: df\n",
    "    output: a list with the column name and the amount of unique values\n",
    "    '''\n",
    "    return sorted([(col, len(df[col].unique())) for col in df.columns], key=lambda x: x[1])"
   ]
  }
 ],
 "metadata": {
  "kernelspec": {
   "display_name": "Python 3 (ipykernel)",
   "language": "python",
   "name": "python3"
  },
  "language_info": {
   "codemirror_mode": {
    "name": "ipython",
    "version": 3
   },
   "file_extension": ".py",
   "mimetype": "text/x-python",
   "name": "python",
   "nbconvert_exporter": "python",
   "pygments_lexer": "ipython3",
   "version": "3.11.4"
  }
 },
 "nbformat": 4,
 "nbformat_minor": 5
}
