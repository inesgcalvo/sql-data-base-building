{
 "cells": [
  {
   "cell_type": "markdown",
   "id": "2e42e6a5",
   "metadata": {},
   "source": [
    "# Revisiting Blockbuster"
   ]
  },
  {
   "cell_type": "markdown",
   "id": "02af2427",
   "metadata": {},
   "source": [
    "## Data Cleansing:\n",
    "\n",
    "    actor.csv\n",
    "    category.csv\n",
    "    film.csv\n",
    "    inventory.csv\n",
    "    language.csv\n",
    "    old_HDD.csv\n",
    "    rental.csv"
   ]
  },
  {
   "cell_type": "markdown",
   "id": "8e69ba89",
   "metadata": {},
   "source": [
    "https://upload.wikimedia.org/wikipedia/commons/thumb/4/46/Blockbuster_logo.svg/2560px-Blockbuster_logo.svg.png"
   ]
  },
  {
   "cell_type": "markdown",
   "id": "f3c9a9a6",
   "metadata": {},
   "source": [
    "_____"
   ]
  },
  {
   "cell_type": "code",
   "execution_count": 1,
   "id": "c8365319",
   "metadata": {},
   "outputs": [],
   "source": [
    "# %pip install ipynb"
   ]
  },
  {
   "cell_type": "code",
   "execution_count": 2,
   "id": "483608a5",
   "metadata": {},
   "outputs": [],
   "source": [
    "import re\n",
    "import zipfile\n",
    "import datetime\n",
    "import numpy as np\n",
    "import pandas as pd\n",
    "import seaborn as sns\n",
    "import matplotlib.pyplot as plt\n",
    "from ipynb.fs.full.clean_functions import *\n",
    "\n",
    "import warnings\n",
    "warnings.filterwarnings('ignore')"
   ]
  },
  {
   "cell_type": "markdown",
   "id": "da4234b7",
   "metadata": {},
   "source": [
    "## actor.csv"
   ]
  },
  {
   "cell_type": "code",
   "execution_count": 3,
   "id": "5cbf4041",
   "metadata": {},
   "outputs": [],
   "source": [
    "raw_actor = pd.read_csv('../input/actor.csv', encoding='latin1')"
   ]
  },
  {
   "cell_type": "code",
   "execution_count": 4,
   "id": "63b5bbd2",
   "metadata": {},
   "outputs": [],
   "source": [
    "actor = raw_actor.copy()"
   ]
  },
  {
   "cell_type": "code",
   "execution_count": 5,
   "id": "dff57dd8",
   "metadata": {},
   "outputs": [
    {
     "data": {
      "text/plain": [
       "(200, 4)"
      ]
     },
     "execution_count": 5,
     "metadata": {},
     "output_type": "execute_result"
    }
   ],
   "source": [
    "actor.shape"
   ]
  },
  {
   "cell_type": "code",
   "execution_count": 6,
   "id": "a0be26af",
   "metadata": {},
   "outputs": [
    {
     "data": {
      "text/html": [
       "<div>\n",
       "<style scoped>\n",
       "    .dataframe tbody tr th:only-of-type {\n",
       "        vertical-align: middle;\n",
       "    }\n",
       "\n",
       "    .dataframe tbody tr th {\n",
       "        vertical-align: top;\n",
       "    }\n",
       "\n",
       "    .dataframe thead th {\n",
       "        text-align: right;\n",
       "    }\n",
       "</style>\n",
       "<table border=\"1\" class=\"dataframe\">\n",
       "  <thead>\n",
       "    <tr style=\"text-align: right;\">\n",
       "      <th></th>\n",
       "      <th>actor_id</th>\n",
       "      <th>first_name</th>\n",
       "      <th>last_name</th>\n",
       "      <th>last_update</th>\n",
       "    </tr>\n",
       "  </thead>\n",
       "  <tbody>\n",
       "    <tr>\n",
       "      <th>0</th>\n",
       "      <td>1</td>\n",
       "      <td>PENELOPE</td>\n",
       "      <td>GUINESS</td>\n",
       "      <td>2006-02-15 04:34:33</td>\n",
       "    </tr>\n",
       "    <tr>\n",
       "      <th>1</th>\n",
       "      <td>2</td>\n",
       "      <td>NICK</td>\n",
       "      <td>WAHLBERG</td>\n",
       "      <td>2006-02-15 04:34:33</td>\n",
       "    </tr>\n",
       "    <tr>\n",
       "      <th>2</th>\n",
       "      <td>3</td>\n",
       "      <td>ED</td>\n",
       "      <td>CHASE</td>\n",
       "      <td>2006-02-15 04:34:33</td>\n",
       "    </tr>\n",
       "    <tr>\n",
       "      <th>3</th>\n",
       "      <td>4</td>\n",
       "      <td>JENNIFER</td>\n",
       "      <td>DAVIS</td>\n",
       "      <td>2006-02-15 04:34:33</td>\n",
       "    </tr>\n",
       "    <tr>\n",
       "      <th>4</th>\n",
       "      <td>5</td>\n",
       "      <td>JOHNNY</td>\n",
       "      <td>LOLLOBRIGIDA</td>\n",
       "      <td>2006-02-15 04:34:33</td>\n",
       "    </tr>\n",
       "  </tbody>\n",
       "</table>\n",
       "</div>"
      ],
      "text/plain": [
       "   actor_id first_name     last_name          last_update\n",
       "0         1   PENELOPE       GUINESS  2006-02-15 04:34:33\n",
       "1         2       NICK      WAHLBERG  2006-02-15 04:34:33\n",
       "2         3         ED         CHASE  2006-02-15 04:34:33\n",
       "3         4   JENNIFER         DAVIS  2006-02-15 04:34:33\n",
       "4         5     JOHNNY  LOLLOBRIGIDA  2006-02-15 04:34:33"
      ]
     },
     "execution_count": 6,
     "metadata": {},
     "output_type": "execute_result"
    }
   ],
   "source": [
    "actor.head()"
   ]
  },
  {
   "cell_type": "code",
   "execution_count": 7,
   "id": "73342d28",
   "metadata": {},
   "outputs": [
    {
     "data": {
      "text/plain": [
       "False"
      ]
     },
     "execution_count": 7,
     "metadata": {},
     "output_type": "execute_result"
    }
   ],
   "source": [
    "any_duplicate(actor)"
   ]
  },
  {
   "cell_type": "code",
   "execution_count": 8,
   "id": "f67671a2",
   "metadata": {},
   "outputs": [
    {
     "ename": "NameError",
     "evalue": "name 'error' is not defined",
     "output_type": "error",
     "traceback": [
      "\u001b[1;31m---------------------------------------------------------------------------\u001b[0m",
      "\u001b[1;31mNameError\u001b[0m                                 Traceback (most recent call last)",
      "Cell \u001b[1;32mIn[8], line 1\u001b[0m\n\u001b[1;32m----> 1\u001b[0m error\n",
      "\u001b[1;31mNameError\u001b[0m: name 'error' is not defined"
     ]
    }
   ],
   "source": [
    "error"
   ]
  },
  {
   "cell_type": "code",
   "execution_count": null,
   "id": "fa63078f",
   "metadata": {},
   "outputs": [],
   "source": [
    "plt.figure(figsize=(10, 6), facecolor='none') \n",
    "sns.heatmap(actor.isna(),           \n",
    "            yticklabels=False,  \n",
    "            cmap='magma',     \n",
    "            cbar=False)\n",
    "plt.show();"
   ]
  },
  {
   "cell_type": "code",
   "execution_count": null,
   "id": "2fa5a310",
   "metadata": {},
   "outputs": [],
   "source": [
    "cte_str_cols = []\n",
    "\n",
    "for col in actor.select_dtypes(include = 'object'):\n",
    "    if len(actor[col].unique()) == 1:\n",
    "        cte_str_cols.append(col)\n",
    "          \n",
    "cte_str_cols"
   ]
  },
  {
   "cell_type": "code",
   "execution_count": null,
   "id": "056a7dcc",
   "metadata": {},
   "outputs": [],
   "source": [
    "actor.drop('last_update', axis = 1, inplace = True)"
   ]
  },
  {
   "cell_type": "code",
   "execution_count": null,
   "id": "09deaca4",
   "metadata": {},
   "outputs": [],
   "source": [
    "actor.shape"
   ]
  },
  {
   "cell_type": "code",
   "execution_count": null,
   "id": "0c91bed8",
   "metadata": {},
   "outputs": [],
   "source": [
    "actor.to_csv('../output/actor.csv', index=False)"
   ]
  },
  {
   "cell_type": "markdown",
   "id": "ce532583",
   "metadata": {},
   "source": [
    "____"
   ]
  },
  {
   "cell_type": "markdown",
   "id": "7c8d705f",
   "metadata": {},
   "source": [
    "## category.csv"
   ]
  },
  {
   "cell_type": "code",
   "execution_count": null,
   "id": "afa8c4e2",
   "metadata": {},
   "outputs": [],
   "source": [
    "raw_category = pd.read_csv('../input/category.csv', encoding='latin1')"
   ]
  },
  {
   "cell_type": "code",
   "execution_count": null,
   "id": "ed7e9881",
   "metadata": {},
   "outputs": [],
   "source": [
    "category = raw_category.copy()"
   ]
  },
  {
   "cell_type": "code",
   "execution_count": null,
   "id": "62133a96",
   "metadata": {},
   "outputs": [],
   "source": [
    "category.shape"
   ]
  },
  {
   "cell_type": "code",
   "execution_count": null,
   "id": "ad6e8cca",
   "metadata": {},
   "outputs": [],
   "source": [
    "category.head()"
   ]
  },
  {
   "cell_type": "code",
   "execution_count": null,
   "id": "d1d3abd4",
   "metadata": {},
   "outputs": [],
   "source": [
    "category.duplicated().any()"
   ]
  },
  {
   "cell_type": "code",
   "execution_count": null,
   "id": "3e82647d",
   "metadata": {},
   "outputs": [],
   "source": [
    "plt.figure(figsize=(10, 6), facecolor='none') \n",
    "sns.heatmap(category.isna(),           \n",
    "            yticklabels=False,  \n",
    "            cmap='magma',     \n",
    "            cbar=False)\n",
    "plt.show();"
   ]
  },
  {
   "cell_type": "code",
   "execution_count": null,
   "id": "58310217",
   "metadata": {},
   "outputs": [],
   "source": [
    "cte_str_cols = []\n",
    "\n",
    "for col in category.select_dtypes(include = 'object'):\n",
    "    if len(category[col].unique()) == 1:\n",
    "        cte_str_cols.append(col)\n",
    "          \n",
    "cte_str_cols"
   ]
  },
  {
   "cell_type": "code",
   "execution_count": null,
   "id": "05399096",
   "metadata": {},
   "outputs": [],
   "source": [
    "category.drop('last_update', axis = 1, inplace = True)"
   ]
  },
  {
   "cell_type": "code",
   "execution_count": null,
   "id": "b948117a",
   "metadata": {},
   "outputs": [],
   "source": []
  },
  {
   "cell_type": "code",
   "execution_count": null,
   "id": "49b4b7c7",
   "metadata": {},
   "outputs": [],
   "source": []
  },
  {
   "cell_type": "code",
   "execution_count": null,
   "id": "fd9b4bf2",
   "metadata": {},
   "outputs": [],
   "source": []
  },
  {
   "cell_type": "code",
   "execution_count": null,
   "id": "af89480c",
   "metadata": {},
   "outputs": [],
   "source": []
  },
  {
   "cell_type": "code",
   "execution_count": null,
   "id": "c7930d5b",
   "metadata": {},
   "outputs": [],
   "source": []
  },
  {
   "cell_type": "code",
   "execution_count": null,
   "id": "6c3d6419",
   "metadata": {},
   "outputs": [],
   "source": [
    "## film.csv\n",
    "inventory.csv\n",
    "language.csv\n",
    "old_HDD.csv\n",
    "rental.csv"
   ]
  }
 ],
 "metadata": {
  "kernelspec": {
   "display_name": "Python 3 (ipykernel)",
   "language": "python",
   "name": "python3"
  },
  "language_info": {
   "codemirror_mode": {
    "name": "ipython",
    "version": 3
   },
   "file_extension": ".py",
   "mimetype": "text/x-python",
   "name": "python",
   "nbconvert_exporter": "python",
   "pygments_lexer": "ipython3",
   "version": "3.11.4"
  }
 },
 "nbformat": 4,
 "nbformat_minor": 5
}
